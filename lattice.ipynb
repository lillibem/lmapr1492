{
 "cells": [
  {
   "cell_type": "code",
   "execution_count": 5,
   "id": "07127554",
   "metadata": {},
   "outputs": [],
   "source": [
    "from pymatgen.ext.matproj import MPRester\n",
    "from pymatgen.symmetry.analyzer import SpacegroupAnalyzer\n",
    "from jupyter_jsmol.pymatgen import quick_view"
   ]
  },
  {
   "cell_type": "code",
   "execution_count": 6,
   "id": "ab453c31",
   "metadata": {},
   "outputs": [],
   "source": [
    "# Télécharger le dossier TiSnPd.cif\n",
    "with MPRester(\"pBDutDDdaCLFGZOVupy8\") as m:\n",
    "\n",
    "    # Structure for material id\n",
    "    structure = m.get_structure_by_material_id(\"mp-961682\")\n",
    "\n",
    "structure.to(filename=\"TiSnPd.cif\")"
   ]
  },
  {
   "cell_type": "code",
   "execution_count": 7,
   "id": "511084bf",
   "metadata": {},
   "outputs": [
    {
     "name": "stdout",
     "output_type": "stream",
     "text": [
      "Vecteurs de bases du réseau direct : a = 4.394493282592658, b = 4.394493282592658, c = 4.394493282592658\n",
      "Vecteurs de bases du réseau réciproque : a = 0.2786999075053803, b = 0.2786999075053803, c = 0.2786999075053803\n",
      "Type de maille : cubic\n",
      "Système cristallin : cubic\n",
      "Groupe ponctuel : -43m\n"
     ]
    }
   ],
   "source": [
    "lattice = structure.lattice\n",
    "\n",
    "# Vecteurs de bases du réseau direct\n",
    "a = lattice.a\n",
    "b = lattice.b \n",
    "c = lattice.c \n",
    "print(\"Vecteurs de bases du réseau direct : a = {}, b = {}, c = {}\".format(a,b,c))\n",
    "\n",
    "# Vecteurs de bases du réseau réciproque\n",
    "a_rec = lattice.reciprocal_lattice_crystallographic.a\n",
    "b_rec = lattice.reciprocal_lattice_crystallographic.b\n",
    "c_rec = lattice.reciprocal_lattice_crystallographic.c\n",
    "print(\"Vecteurs de bases du réseau réciproque : a = {}, b = {}, c = {}\".format(a_rec,b_rec,c_rec))\n",
    "\n",
    "sga = SpacegroupAnalyzer(structure)\n",
    "\n",
    "# Type de maille \n",
    "m = sga.get_lattice_type()\n",
    "print(\"Type de maille :\", m)\n",
    "\n",
    "# Système cristallin\n",
    "s = sga.get_crystal_system() \n",
    "print(\"Système cristallin :\", s)\n",
    "\n",
    "# Groupe ponctuel\n",
    "gp = sga.get_point_group_symbol()\n",
    "print(\"Groupe ponctuel :\", gp)"
   ]
  },
  {
   "cell_type": "code",
   "execution_count": null,
   "id": "15fe1e29",
   "metadata": {},
   "outputs": [],
   "source": []
  }
 ],
 "metadata": {
  "kernelspec": {
   "display_name": "Python 3",
   "language": "python",
   "name": "python3"
  },
  "language_info": {
   "codemirror_mode": {
    "name": "ipython",
    "version": 3
   },
   "file_extension": ".py",
   "mimetype": "text/x-python",
   "name": "python",
   "nbconvert_exporter": "python",
   "pygments_lexer": "ipython3",
   "version": "3.6.8"
  }
 },
 "nbformat": 4,
 "nbformat_minor": 5
}
