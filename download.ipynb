{
 "cells": [
  {
   "cell_type": "code",
   "execution_count": 11,
   "id": "20448d86",
   "metadata": {},
   "outputs": [],
   "source": [
    "from pymatgen.io.cif import CifParser\n",
    "from jupyter_jsmol.pymatgen import quick_view\n",
    "\n",
    "from pymatgen.ext.matproj import MPRester\n",
    "with MPRester(\"pBDutDDdaCLFGZOVupy8\") as m:\n",
    "\n",
    "    # Structure for material id\n",
    "    structure = m.get_structure_by_material_id(\"mp-961682\")"
   ]
  },
  {
   "cell_type": "code",
   "execution_count": 12,
   "id": "1cdf6f21",
   "metadata": {},
   "outputs": [],
   "source": [
    "structure.to(filename=\"TiSnPd.cif\")"
   ]
  },
  {
   "cell_type": "code",
   "execution_count": 13,
   "id": "d580d9e7",
   "metadata": {},
   "outputs": [
    {
     "data": {
      "application/vnd.jupyter.widget-view+json": {
       "model_id": "7196470e91ae4cad9ee27671716dc3d9",
       "version_major": 2,
       "version_minor": 0
      },
      "text/plain": [
       "JsmolView(layout=Layout(align_self='stretch', height='400px'))"
      ]
     },
     "metadata": {},
     "output_type": "display_data"
    }
   ],
   "source": [
    "view = quick_view(structure)\n",
    "display(view)"
   ]
  },
  {
   "cell_type": "code",
   "execution_count": null,
   "id": "9b487e23",
   "metadata": {},
   "outputs": [],
   "source": []
  }
 ],
 "metadata": {
  "kernelspec": {
   "display_name": "Python 3",
   "language": "python",
   "name": "python3"
  },
  "language_info": {
   "codemirror_mode": {
    "name": "ipython",
    "version": 3
   },
   "file_extension": ".py",
   "mimetype": "text/x-python",
   "name": "python",
   "nbconvert_exporter": "python",
   "pygments_lexer": "ipython3",
   "version": "3.6.8"
  }
 },
 "nbformat": 4,
 "nbformat_minor": 5
}
